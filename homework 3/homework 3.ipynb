{
 "cells": [
  {
   "cell_type": "markdown",
   "metadata": {
    "colab_type": "text",
    "id": "ok9xpaI-uyUT"
   },
   "source": [
    "![sutd](imgs/sutd.png)\n",
    "## <center>50.040 Natural Language Processing, Summer 2019<center>\n",
    "<center>**Homework 3**\n",
    "\n",
    "<center>**Due 7 August 2019, 5pm** <center>"
   ]
  },
  {
   "cell_type": "markdown",
   "metadata": {
    "colab_type": "text",
    "id": "WHLjIQokuyUV"
   },
   "source": [
    "**Write your student ID and name**\n",
    "\n",
    "ID: 1002323\n",
    "\n",
    "Name: Woong Wen Tat\n",
    "\n",
    "Students whom you have discussed with (if any):"
   ]
  },
  {
   "cell_type": "markdown",
   "metadata": {
    "colab_type": "text",
    "id": "F7rJYYMnuyUW"
   },
   "source": [
    "### Requirements:\n",
    "- Use Python to complete this homework.\n",
    "- Please list students with whom you have discussed (if any).\n",
    "- Follow the honor code strictly.\n",
    "- Submit this ipynb file on eDimension before the deadline."
   ]
  },
  {
   "cell_type": "markdown",
   "metadata": {
    "colab_type": "text",
    "id": "joGu6trB8RRN"
   },
   "source": [
    "In this homework, we'll implement IBM Model 1 using the expectation–maximization (EM) algorithm. We need to estimate the  translation probabilities $t(f|e)$ on a parallel corpus, where $e$ is a word from the English sentences and $f$ is a word from the corresponding foreign sentences. \n",
    "\n",
    "Note that there's a constraint for such probabilities:\n",
    "$$\\sum_f t(f|e)=1  \\ \\ \\ (1)$$\n",
    "\n",
    "**We'll use this constraint when initializing the translation probabilities in subsequent tasks.**"
   ]
  },
  {
   "cell_type": "markdown",
   "metadata": {
    "colab_type": "text",
    "id": "stJOvS_A8RRO"
   },
   "source": [
    "## Data\n",
    "We'll use the English-French parallel corpus under the folder \"data/en-fr\", which contains a set of translation instances. As can be seen below each instance consists of an English-French sentence pair (note that we are translating from French into English, but as we discussed in class, when working on the translation model using IBM model 1, we are interested in generating French from English).\n",
    "\n",
    "\n",
    "\n",
    "    Hop in.\tMontez.\n",
    "    Hug me.\tSerre-moi dans tes bras !\n",
    "    I left.\tJe suis parti.\n",
    "\n",
    "The dataset is obtained from [MXNET](http://data.mxnet.io/data/fra-eng.zip). Please run the provided code below to obtain the preprocessed English sentences and French sentences. Do not perform any further preprocessing. \n"
   ]
  },
  {
   "cell_type": "code",
   "execution_count": 1,
   "metadata": {
    "colab": {},
    "colab_type": "code",
    "id": "spMyMryh8RRP"
   },
   "outputs": [],
   "source": [
    "import seaborn as sns\n",
    "import numpy as np\n",
    "from collections import Counter\n",
    "from matplotlib import pyplot as plt\n",
    "%matplotlib inline"
   ]
  },
  {
   "cell_type": "code",
   "execution_count": 2,
   "metadata": {
    "colab": {},
    "colab_type": "code",
    "id": "soTtZXt68RRT"
   },
   "outputs": [],
   "source": [
    "path = 'data/en-fr/en-fr.txt'\n",
    "with open(path, encoding='utf8') as f:\n",
    "    raw_text = f.read()\n",
    "\n",
    "#Original code from \n",
    "#https://www.d2l.ai/chapter_recurrent-neural-networks\n",
    "def preprocess_nmt(text):\n",
    "    '''\n",
    "    Arg:\n",
    "        text: parallel text, string\n",
    "    Return:\n",
    "        out: preprocessed text, string\n",
    "    '''\n",
    "    text = text.replace('\\u202f', ' ').replace('\\xa0', ' ')\n",
    "    no_space = lambda char, prev_char: (\n",
    "        True if char in (',', '!', '.') and prev_char != ' ' else False)\n",
    "    out = [' '+char if i > 0 and no_space(char, text[i-1]) else char\n",
    "           for i, char in enumerate(text.lower())]\n",
    "    out = ''.join(out)\n",
    "    return out\n",
    "\n",
    "text = preprocess_nmt(raw_text)\n",
    "\n",
    "def tokenize_nmt(text, num_examples = None):\n",
    "    '''\n",
    "    Args:\n",
    "        text: parallel text, string\n",
    "        num_examples: number of examples to be selected, int\n",
    "    Returns:\n",
    "        left: English sentences, list\n",
    "        right: French sentences, list\n",
    "    '''\n",
    "    left, right = [], []\n",
    "    for i, line in enumerate(text.split('\\n')):\n",
    "        if num_examples and i > num_examples: break\n",
    "        parts = line.split('\\t')\n",
    "        if len(parts) == 2:\n",
    "            left.append(parts[0].split(' '))\n",
    "            right.append(parts[1].split(' '))\n",
    "    return left, right\n"
   ]
  },
  {
   "cell_type": "code",
   "execution_count": 3,
   "metadata": {
    "colab": {},
    "colab_type": "code",
    "id": "oOUt-g3B8RRV"
   },
   "outputs": [],
   "source": [
    "#English sentences and corresponding French sentences\n",
    "#Each sentence has been preprocessed and tokenized\n",
    "english_sents, french_sents = tokenize_nmt(text)"
   ]
  },
  {
   "cell_type": "markdown",
   "metadata": {
    "colab_type": "text",
    "id": "YCTLIntg8RRX"
   },
   "source": [
    "\n",
    "### Task 1 (3 points)\n",
    "Find out all the possible word pairs $(e, f)$ that appear in all the instances of the English-French dataset, and list down the 10 most frequent pairs. Also count the number of unique pairs. Note that we need to pad each English sentence with the special token \"NULL\" at the beginning.\n"
   ]
  },
  {
   "cell_type": "code",
   "execution_count": 4,
   "metadata": {
    "colab": {},
    "colab_type": "code",
    "id": "SY66YMBR8RRX"
   },
   "outputs": [
    {
     "name": "stdout",
     "output_type": "stream",
     "text": [
      "1402126\n",
      "[(('.', '.'), 136734), (('NULL', '.'), 135221), (('i', '.'), 43189), (('NULL', 'je'), 39821), (('.', 'je'), 39096), (('NULL', 'de'), 35073), (('i', 'je'), 34415), (('to', '.'), 31647), (('.', 'de'), 30490), (('the', '.'), 29170)]\n"
     ]
    }
   ],
   "source": [
    "from copy import deepcopy\n",
    "\n",
    "trans_dict = Counter()\n",
    "\n",
    "for i in range(len(english_sents)):\n",
    "    new_english_sent = deepcopy(english_sents[i])\n",
    "    new_english_sent.insert(0, \"NULL\")\n",
    "    \n",
    "    for e in new_english_sent:\n",
    "        for f in french_sents[i]:\n",
    "            trans_dict[(e,f)] += 1\n",
    "\n",
    "print(len(trans_dict))\n",
    "print (trans_dict.most_common(10))"
   ]
  },
  {
   "cell_type": "markdown",
   "metadata": {
    "colab_type": "text",
    "id": "424sQt3b8RRZ"
   },
   "source": [
    "## Hard EM algorithm"
   ]
  },
  {
   "cell_type": "markdown",
   "metadata": {
    "colab_type": "text",
    "id": "WB_5EV3q8RRa"
   },
   "source": [
    "### Task 2 (6 points)\n",
    "Based on the word pairs obtained in Task 1, implement a hard EM algorithm to calculate the  translation probabilities  $t(f|e)$ on the English-French corpus. Initialize the probabilities randomly under the constraint in Equation 1. Set the maximum iteration number as 10. \n",
    "\n",
    "It is possible that in the hard EM algorithm a word $\\tilde{e}$ from an English sentence may not be aligned with any word from the corresponding French sentence. In this case, let us set the corresponding probabilities $t(f|\\tilde{e})=\\frac{1}{|V_f|}$ where $|V_f|$ is the size of the French vocabulary (in this case, the number of unique French words that ever appear in the training parallel corpus)."
   ]
  },
  {
   "cell_type": "code",
   "execution_count": 5,
   "metadata": {
    "colab": {},
    "colab_type": "code",
    "id": "CEDfXScl8RRa"
   },
   "outputs": [],
   "source": [
    "en_vocab = []\n",
    "fr_vocab = []\n",
    "\n",
    "for i in range(len(english_sents)):\n",
    "    for e in english_sents[i]:\n",
    "        en_vocab.append(e)\n",
    "    for f in french_sents[i]:\n",
    "        fr_vocab.append(f)\n",
    "\n",
    "en_vocab.append('NULL')\n",
    "en_vocab = set(en_vocab)\n",
    "fr_vocab = set(fr_vocab)"
   ]
  },
  {
   "cell_type": "code",
   "execution_count": 6,
   "metadata": {},
   "outputs": [],
   "source": [
    "from collections import defaultdict\n",
    "np.random.seed(1337)\n",
    "\n",
    "t = defaultdict(lambda: defaultdict(float))      #t(f|e)\n",
    "sum_t = defaultdict(float)                       #normalize t\n",
    "\n",
    "for (e,f) in trans_dict.keys():\n",
    "    t[e][f] = np.random.randint(10000)\n",
    "    sum_t[e] += t[e][f]\n",
    "\n",
    "for e in t.keys():\n",
    "    for f in t[e].keys():\n",
    "        t[e][f] /= sum_t[e]            "
   ]
  },
  {
   "cell_type": "code",
   "execution_count": 7,
   "metadata": {},
   "outputs": [
    {
     "name": "stdout",
     "output_type": "stream",
     "text": [
      "Iteration  1\n",
      "expectation\n",
      "maximization\n",
      "Iteration  2\n",
      "expectation\n",
      "maximization\n",
      "Iteration  3\n",
      "expectation\n",
      "maximization\n",
      "Iteration  4\n",
      "expectation\n",
      "maximization\n",
      "Iteration  5\n",
      "expectation\n",
      "maximization\n",
      "Iteration  6\n",
      "expectation\n",
      "maximization\n",
      "Iteration  7\n",
      "expectation\n",
      "maximization\n",
      "Iteration  8\n",
      "expectation\n",
      "maximization\n",
      "Iteration  9\n",
      "expectation\n",
      "maximization\n",
      "Iteration  10\n",
      "expectation\n",
      "maximization\n"
     ]
    }
   ],
   "source": [
    "max_iter = 10\n",
    "num_sents = len(french_sents)\n",
    "fr_vocab_len = len(fr_vocab)\n",
    "\n",
    "for i in range(max_iter):\n",
    "    print (\"Iteration \", i+1)\n",
    "    count = defaultdict(float)                       #count(f, e)\n",
    "    count_e = defaultdict(float)                     #count(e)\n",
    "    \n",
    "    \n",
    "    ### EXPECTATION ###\n",
    "    print (\"expectation\")\n",
    "    for j in range(num_sents):\n",
    "        new_english_sent = deepcopy(english_sents[j])\n",
    "        new_english_sent.insert(0, \"NULL\")\n",
    "        visited_english_words = [False for _ in range(len(new_english_sent))]\n",
    "        unvisited_t = defaultdict(lambda: defaultdict(float))\n",
    "        \n",
    "        # for each french sentence, find\n",
    "        # the best english alignment based on t\n",
    "        for f in french_sents[j]:\n",
    "            max_prob = 0\n",
    "            max_index = None\n",
    "            for index, e in enumerate(new_english_sent):                    \n",
    "                if t[e][f] > max_prob:\n",
    "                    max_prob = t[e][f]\n",
    "                    max_index = index\n",
    "            visited_english_words[max_index] = True\n",
    "        \n",
    "        # check for unused english words\n",
    "        # if it exists, append it to unvisited list\n",
    "        for x in range(len(new_english_sent)):\n",
    "            if not visited_english_words[x]:\n",
    "                for f in french_sents[j]:\n",
    "                    unvisited_t[new_english_sent[x]][f] = 1/fr_vocab_len\n",
    "                \n",
    "        # use the new t in finding alignments again\n",
    "        for f in french_sents[j]:\n",
    "            max_prob = 0\n",
    "            max_e = None\n",
    "            max_index = None\n",
    "            for index, e in enumerate(new_english_sent):\n",
    "                if visited_english_words[index]:\n",
    "                    prob = t[e][f]\n",
    "                else:\n",
    "                    prob = unvisited_t[e][f]\n",
    "                if prob > max_prob:\n",
    "                    max_prob = t[e][f]\n",
    "                    max_e = e\n",
    "                    max_index = index\n",
    "            count[(f, max_e)] += 1\n",
    "            count_e[max_e] += 1\n",
    "    \n",
    "    ### MAXIMIZATION ###\n",
    "    print (\"maximization\")\n",
    "    for e in t.keys():\n",
    "        for f in t[e].keys():\n",
    "            try:\n",
    "                t[e][f] = count[(f, e)]/count_e[e]\n",
    "            except Exception as ex: \n",
    "                # divide by zero error because of some e that is\n",
    "                # unmatched in all sentences, we retain the old t\n",
    "                pass"
   ]
  },
  {
   "cell_type": "markdown",
   "metadata": {
    "colab_type": "text",
    "id": "18sBQ---8RRc"
   },
   "source": [
    "### Task 3 (3 points)\n",
    "Using 2D-heatmap, visualize the word alignment (namely $t(f|e)$) for each of the instances below:\n",
    "\n",
    "    NULL tom loves chocolate .   tom adore le chocolat .    \n",
    "    NULL it was a very exciting game .   c'était un jeu vraiment très excitant .  \n",
    "    NULL i'm sorry to have kept you waiting for such a long time .   je suis désolé de vous avoir fait attendre aussi longtemps .  \n",
    "    \n",
    "Note that you need to label the x-axis (horizontal axis) with the English words and the y-axis (vertical axis) with the French words (please do not change the word orders for both sentences; see the sample heatmap below)."
   ]
  },
  {
   "cell_type": "code",
   "execution_count": 8,
   "metadata": {
    "colab": {},
    "colab_type": "code",
    "id": "6Z8flISn8RRc"
   },
   "outputs": [
    {
     "data": {
      "image/png": "[encoded data removed]",
      "text/plain": [
       "<Figure size 432x288 with 2 Axes>"
      ]
     },
     "metadata": {},
     "output_type": "display_data"
    },
    {
     "data": {
      "image/png": "[encoded data removed]",
      "text/plain": [
       "<Figure size 432x288 with 2 Axes>"
      ]
     },
     "metadata": {},
     "output_type": "display_data"
    },
    {
     "data": {
      "image/png": "[encoded data removed]",
      "text/plain": [
       "<Figure size 432x288 with 2 Axes>"
      ]
     },
     "metadata": {},
     "output_type": "display_data"
    }
   ],
   "source": [
    "import matplotlib.pyplot as plt\n",
    "import numpy as np\n",
    "\n",
    "en = [[\"NULL\", \"tom\", \"loves\", \"chocolate\", \".\"],[\"NULL\", \"it\", \"was\", \"a\", \"very\", \"exciting\", \"game\", \".\"],[\"NULL\", \"i'm\", \"sorry\", \"to\", \"have\", \"kept\", \"you\", \"waiting\", \"for\", \"such\", \"a\", \"long\", \"time\", \".\"]]\n",
    "fr = [[\"tom\", \"adore\", \"le\", \"chocolat\", \".\"], [\"c'était\", \"un\", \"jeu\", \"vraiment\", \"très\", \"excitant\", \".\"],[\"je\", \"suis\", \"désolé\", \"de\", \"vous\", \"avoir\", \"fait\", \"attendre\", \"aussi\", \"longtemps\", \".\"]]\n",
    "\n",
    "\n",
    "for i in range(len(en)):\n",
    "    a = np.zeros((len(fr[i]), len(en[i])))\n",
    "    for j, f in enumerate(fr[i]):\n",
    "        for k, e in enumerate(en[i]):\n",
    "            a[j][k] = t[e][f]\n",
    "    plt.figure()\n",
    "    sns.heatmap(a, xticklabels=en[i], yticklabels=fr[i])"
   ]
  },
  {
   "cell_type": "markdown",
   "metadata": {
    "colab_type": "text",
    "id": "azApJ9p78RRd"
   },
   "source": [
    "## Soft EM algorithm"
   ]
  },
  {
   "cell_type": "markdown",
   "metadata": {
    "colab_type": "text",
    "id": "DUYEBjlO8RRe"
   },
   "source": [
    "### Task 4 (8 points)\n",
    "Implement a soft EM algorithm with the translation probabilities $t(f|e)$ randomly initialized under the constraint in Equation 1. Let us use the objective function defined in the slides to check whether our algorithm can converge as expected. The objective of the entire training set is denoted as: \n",
    "\n",
    "$$\\sum_{k} \\sum_{i=1}^{m_k}log(\\sum_{j=0}^{n_k}t(f^k_i\\mid e^k_j)) \\ \\ \\ (2)$$\n",
    "where  $m_k$ is the length of the French sentence, $n_k$ is the length of the English sentence in the $k$-th instance.\n",
    "- Run the soft EM algorithm on the first 10000 instances of the English-French corpus. Display the objective and check whether it is non-descending in the first, say 100 or 1000 iterations (or even more).  If not, it indicates your algorithm has bug and please look into your implementation. (Note that since we are only considering the first 10000 instances, we therefore only need to consider the word pairs $(e, f)$ that appear in these 10000 instances)\n",
    "- Based on the word translation pairs obtained in Task 1, calculate the probabilities $t(f|e)$ on the entire English-French corpus. Display the objective at each iteration, and set the maximum iteration number as 15."
   ]
  },
  {
   "cell_type": "code",
   "execution_count": 4,
   "metadata": {},
   "outputs": [],
   "source": [
    "num_sents = 10000"
   ]
  },
  {
   "cell_type": "code",
   "execution_count": 8,
   "metadata": {},
   "outputs": [],
   "source": [
    "from copy import deepcopy\n",
    "\n",
    "trans_dict2 = Counter()\n",
    "\n",
    "for i in range(num_sents):\n",
    "    new_english_sent = deepcopy(english_sents[i])\n",
    "    new_english_sent.insert(0, \"NULL\")\n",
    "    \n",
    "    for e in new_english_sent:\n",
    "        for f in french_sents[i]:\n",
    "            trans_dict2[(e,f)] += 1"
   ]
  },
  {
   "cell_type": "code",
   "execution_count": 9,
   "metadata": {},
   "outputs": [],
   "source": [
    "en_vocab2 = []\n",
    "fr_vocab2 = []\n",
    "\n",
    "for i in range(num_sents):\n",
    "    for e in english_sents[i]:\n",
    "        en_vocab2.append(e)\n",
    "    for f in french_sents[i]:\n",
    "        fr_vocab2.append(f)\n",
    "\n",
    "en_vocab2.append('NULL')\n",
    "en_vocab2 = set(en_vocab2)\n",
    "fr_vocab2 = set(fr_vocab2)"
   ]
  },
  {
   "cell_type": "code",
   "execution_count": 10,
   "metadata": {},
   "outputs": [],
   "source": [
    "from collections import defaultdict\n",
    "\n",
    "\n",
    "t2 = defaultdict(lambda: defaultdict(float))      #t(f|e)\n",
    "sum_t2 = defaultdict(float)                       #normalize t\n",
    "\n",
    "for (e,f) in trans_dict2.keys():\n",
    "    t2[e][f] = np.random.randint(10000)\n",
    "    sum_t2[e] += t2[e][f]\n",
    "\n",
    "for e in t2.keys():\n",
    "    for f in t2[e].keys():\n",
    "        t2[e][f] /= sum_t2[e]        "
   ]
  },
  {
   "cell_type": "code",
   "execution_count": 12,
   "metadata": {
    "colab": {},
    "colab_type": "code",
    "id": "K0VtproO8RRe"
   },
   "outputs": [
    {
     "name": "stdout",
     "output_type": "stream",
     "text": [
      "Iteration  1\n",
      "objective:  -40331.073778961145\n",
      "Iteration  2\n",
      "objective:  -40321.44871072049\n",
      "Iteration  3\n",
      "objective:  -40313.76754113764\n",
      "Iteration  4\n",
      "objective:  -40307.50907071151\n",
      "Iteration  5\n",
      "objective:  -40302.46747389517\n",
      "Iteration  6\n",
      "objective:  -40298.36436140022\n",
      "Iteration  7\n",
      "objective:  -40294.901305327156\n",
      "Iteration  8\n",
      "objective:  -40291.849851477695\n",
      "Iteration  9\n",
      "objective:  -40289.077997546185\n",
      "Iteration  10\n",
      "objective:  -40286.63847261407\n",
      "Iteration  11\n",
      "objective:  -40284.5893339219\n",
      "Iteration  12\n",
      "objective:  -40282.85433751301\n",
      "Iteration  13\n",
      "objective:  -40281.35609008595\n",
      "Iteration  14\n",
      "objective:  -40280.0496804587\n",
      "Iteration  15\n",
      "objective:  -40278.904147770336\n"
     ]
    }
   ],
   "source": [
    "import math\n",
    "\n",
    "max_iter = 15\n",
    "\n",
    "for i in range(max_iter):\n",
    "    global_count = defaultdict(float)                       #count(f, e)\n",
    "    global_count_e = defaultdict(float)                     #count(e)\n",
    "    global_log_score = 0\n",
    "    \n",
    "    print (\"Iteration \", i+1)\n",
    "    \n",
    "    ### EXPECTATION ###\n",
    "    for j in range(num_sents):\n",
    "        new_english_sent = deepcopy(english_sents[j])\n",
    "        new_english_sent.insert(0, \"NULL\")\n",
    "        local_count = defaultdict(float)\n",
    "        sum_t2 = defaultdict(float)\n",
    "        log_score = 0\n",
    "        \n",
    "        # for each french sentence, find\n",
    "        # the count as a sum of t(f|e)\n",
    "        for f in french_sents[j]:    \n",
    "            for e in new_english_sent:\n",
    "                local_count[(f, e)] += t2[e][f]\n",
    "                sum_t2[f] += t2[e][f]\n",
    "            log_score += np.log(sum_t2[f])\n",
    "        global_log_score += log_score\n",
    "        \n",
    "           \n",
    "        # normalizing and adding sum of counts of e\n",
    "        for f in set(french_sents[j]):\n",
    "            for e in set(new_english_sent):\n",
    "                local_count[(f, e)] /= sum_t2[f]\n",
    "                global_count[(f, e)] += local_count[(f,e)]\n",
    "                global_count_e[e] += local_count[(f,e)]\n",
    "    \n",
    "    print (\"objective: \", global_log_score)\n",
    "    \n",
    "    ### MAXIMIZATION ###\n",
    "    for e in t2.keys():\n",
    "        for f in t2[e].keys():\n",
    "            t2[e][f] = global_count[(f, e)]/global_count_e[e]     "
   ]
  },
  {
   "cell_type": "markdown",
   "metadata": {
    "colab_type": "text",
    "id": "XCk59zI68RRf"
   },
   "source": [
    "### Task 5 (4 points)\n",
    "\n",
    "Using the word translation probabilities obtained in Task 4, \n",
    "- Perform the visualization again for each of the instances in Task 3. \n",
    "- Find out the optimal alignment for each of the instances listed in Task 3. List down the optimal alignment word pairs for each instance, namely, align each word in the French sentence to the most relevant word in the corresponding English sentence based on the learned probabilities."
   ]
  },
  {
   "cell_type": "code",
   "execution_count": 13,
   "metadata": {
    "colab": {},
    "colab_type": "code",
    "id": "fDCo3kYl8RRf"
   },
   "outputs": [
    {
     "data": {
      "image/png": "[encoded data removed]",
      "text/plain": [
       "<Figure size 432x288 with 2 Axes>"
      ]
     },
     "metadata": {},
     "output_type": "display_data"
    },
    {
     "data": {
      "image/png": "[encoded data removed]",
      "text/plain": [
       "<Figure size 432x288 with 2 Axes>"
      ]
     },
     "metadata": {},
     "output_type": "display_data"
    },
    {
     "data": {
      "image/png": "[encoded data removed]",
      "text/plain": [
       "<Figure size 432x288 with 2 Axes>"
      ]
     },
     "metadata": {},
     "output_type": "display_data"
    }
   ],
   "source": [
    "import matplotlib.pyplot as plt\n",
    "import numpy as np\n",
    "\n",
    "en = [[\"NULL\", \"tom\", \"loves\", \"chocolate\", \".\"],[\"NULL\", \"it\", \"was\", \"a\", \"very\", \"exciting\", \"game\", \".\"],[\"NULL\", \"i'm\", \"sorry\", \"to\", \"have\", \"kept\", \"you\", \"waiting\", \"for\", \"such\", \"a\", \"long\", \"time\", \".\"]]\n",
    "fr = [[\"tom\", \"adore\", \"le\", \"chocolat\", \".\"], [\"c'était\", \"un\", \"jeu\", \"vraiment\", \"très\", \"excitant\", \".\"],[\"je\", \"suis\", \"désolé\", \"de\", \"vous\", \"avoir\", \"fait\", \"attendre\", \"aussi\", \"longtemps\", \".\"]]\n",
    "\n",
    "\n",
    "for i in range(len(en)):\n",
    "    a = np.zeros((len(fr[i]), len(en[i])))\n",
    "    for j, f in enumerate(fr[i]):\n",
    "        for k, e in enumerate(en[i]):\n",
    "            a[j][k] = t2[e][f]\n",
    "    plt.figure()\n",
    "    sns.heatmap(a, xticklabels=en[i], yticklabels=fr[i])"
   ]
  },
  {
   "cell_type": "markdown",
   "metadata": {
    "colab_type": "text",
    "id": "W2-B-7yP8RRg"
   },
   "source": [
    "### Task 6 (6 points)\n",
    "\n",
    "Now let us run the soft EM algorithm on the English-Chinese dataset under the folder \"data/en-zh\". The dataset is obtained from [OPUS](http://opus.nlpl.eu/). We'll use the provided code below to preprocess and tokenize the sentences. Do not perform any further preprocessing. \n",
    "- Pad the English sentences with the token \"NULL\" at the beginning. \n",
    "- Calculate the word translation probabilities $t(f |e)$, where $e$ is an English word and $f$ is a Chinese word. Initialize the probabilities randomly under the constraint in Equation 1.\n",
    "- Run the algorithm for 10 iterations. Display the objective at each iteration. \n",
    "- Visualize the alignment for each of the instances below:\n",
    "    \n",
    "        NULL new questions over california water project   加利福尼亚州 水务 工程 的 新 问题\n",
    "        NULL on wednesday , state lawmakers ordered a state audit of the tunnels-spending as well .    一些 州 议员 也 于 周三 责令 对 隧道 费用 支出 情况 进行 一次 州 内 审计 。\n",
    "    \n",
    "\n",
    "\n",
    "    \n",
    "Hint: We can refer to this [blog](https://xiaobing.home.blog/?p=16) for displaying Chinese characters with Matplotlib.\n",
    "    "
   ]
  },
  {
   "cell_type": "code",
   "execution_count": 15,
   "metadata": {
    "colab": {},
    "colab_type": "code",
    "id": "jJNPSLze8RRh"
   },
   "outputs": [],
   "source": [
    "import jieba\n",
    "from nltk import word_tokenize\n",
    "def load_en_zh_data(en_path, zh_path):\n",
    "    '''\n",
    "    Args:\n",
    "        en_path: path of the English sentences, string\n",
    "        zh_path: path of the Chinese sentences, string\n",
    "    Returns:\n",
    "        english_sents: English sentences, list\n",
    "        chinese_sents: Chinese sentences, list\n",
    "    '''\n",
    "    english_sents = []\n",
    "    with open(en_path, encoding='utf8') as f:\n",
    "        for line in f:\n",
    "            words = word_tokenize(line.strip('\\n').lower())\n",
    "            english_sents.append(words)\n",
    "\n",
    "    chinese_sents = []\n",
    "    with open(zh_path, encoding='utf8') as f:\n",
    "        for line in f:\n",
    "            words = list(jieba.cut(line.strip('\\n')))\n",
    "            chinese_sents.append(words)\n",
    "    return english_sents, chinese_sents"
   ]
  },
  {
   "cell_type": "code",
   "execution_count": 16,
   "metadata": {},
   "outputs": [
    {
     "name": "stderr",
     "output_type": "stream",
     "text": [
      "Building prefix dict from the default dictionary ...\n",
      "Loading model from cache C:\\Users\\Lumo\\AppData\\Local\\Temp\\jieba.cache\n",
      "Loading model cost 1.016 seconds.\n",
      "Prefix dict has been built succesfully.\n"
     ]
    }
   ],
   "source": [
    "english_sents, chinese_sents = load_en_zh_data(\"data/en-zh/WMT-News.en-zh.en\", \"data/en-zh/WMT-News.en-zh.zh\")"
   ]
  },
  {
   "cell_type": "code",
   "execution_count": 17,
   "metadata": {},
   "outputs": [],
   "source": [
    "num_sents = len(english_sents)"
   ]
  },
  {
   "cell_type": "code",
   "execution_count": 18,
   "metadata": {
    "colab": {},
    "colab_type": "code",
    "id": "epHnnTkI8RRh"
   },
   "outputs": [],
   "source": [
    "from copy import deepcopy\n",
    "trans_dict3 = Counter()\n",
    "\n",
    "for i in range(num_sents):\n",
    "    new_english_sent = deepcopy(english_sents[i])\n",
    "    new_english_sent.insert(0, \"NULL\")\n",
    "    \n",
    "    for e in new_english_sent:\n",
    "        for f in chinese_sents[i]:\n",
    "            trans_dict3[(e,f)] += 1"
   ]
  },
  {
   "cell_type": "code",
   "execution_count": 19,
   "metadata": {},
   "outputs": [],
   "source": [
    "en_vocab3 = []\n",
    "zh_vocab = []\n",
    "\n",
    "for i in range(num_sents):\n",
    "    for e in english_sents[i]:\n",
    "        en_vocab3.append(e)\n",
    "    for f in chinese_sents[i]:\n",
    "        zh_vocab.append(f)\n",
    "\n",
    "en_vocab3.append('NULL')\n",
    "en_vocab3 = set(en_vocab3)\n",
    "zh_vocab = set(zh_vocab)"
   ]
  },
  {
   "cell_type": "code",
   "execution_count": 27,
   "metadata": {},
   "outputs": [],
   "source": [
    "from collections import defaultdict\n",
    "\n",
    "\n",
    "t3 = defaultdict(lambda: defaultdict(float))      #t(f|e)\n",
    "sum_t3 = defaultdict(float)                       #normalize t\n",
    "\n",
    "for (e,f) in trans_dict3.keys():\n",
    "    t3[e][f] = np.random.randint(10000)\n",
    "    sum_t3[e] += t3[e][f]\n",
    "\n",
    "for e in t3.keys():\n",
    "    for f in t3[e].keys():\n",
    "        t3[e][f] /= sum_t3[e]        "
   ]
  },
  {
   "cell_type": "code",
   "execution_count": 29,
   "metadata": {},
   "outputs": [
    {
     "name": "stdout",
     "output_type": "stream",
     "text": [
      "Iteration  1\n",
      "objective:  -761329.5316996622\n",
      "Iteration  2\n",
      "objective:  -521235.9476753816\n",
      "Iteration  3\n",
      "objective:  -403014.0128672035\n",
      "Iteration  4\n",
      "objective:  -348979.5974847882\n",
      "Iteration  5\n",
      "objective:  -323492.4810628012\n",
      "Iteration  6\n",
      "objective:  -310122.4111066356\n",
      "Iteration  7\n",
      "objective:  -302294.0624926026\n",
      "Iteration  8\n",
      "objective:  -297299.27461019094\n",
      "Iteration  9\n",
      "objective:  -293906.31712190586\n",
      "Iteration  10\n",
      "objective:  -291493.34389368683\n"
     ]
    }
   ],
   "source": [
    "max_iter = 10\n",
    "\n",
    "\n",
    "for i in range(max_iter):\n",
    "    global_count = defaultdict(float)                       #count(f, e)\n",
    "    global_count_e = defaultdict(float)                     #count(e)\n",
    "    global_log_score = 0\n",
    "    \n",
    "    print (\"Iteration \", i+1)\n",
    "    \n",
    "    ### EXPECTATION ###\n",
    "    for j in range(num_sents):\n",
    "        new_english_sent = deepcopy(english_sents[j])\n",
    "        new_english_sent.insert(0, \"NULL\")\n",
    "        local_count = defaultdict(float)\n",
    "        sum_t3 = defaultdict(float)\n",
    "        log_score = 0\n",
    "        \n",
    "        # for each french sentence, find\n",
    "        # the count as a sum of t(f|e)\n",
    "        for f in chinese_sents[j]:    \n",
    "            for e in new_english_sent:\n",
    "                local_count[(f, e)] += t3[e][f]\n",
    "                sum_t3[f] += t3[e][f]\n",
    "            log_score += np.log(sum_t3[f])\n",
    "        global_log_score += log_score\n",
    "        \n",
    "           \n",
    "        # normalizing and adding sum of counts of e\n",
    "        for f in set(chinese_sents[j]):\n",
    "            for e in set(new_english_sent):\n",
    "                local_count[(f, e)] /= sum_t3[f]\n",
    "                global_count[(f, e)] += local_count[(f,e)]\n",
    "                global_count_e[e] += local_count[(f,e)]\n",
    "    \n",
    "    print (\"objective: \", global_log_score)\n",
    "    \n",
    "    for e in t3.keys():\n",
    "        for f in t3[e].keys():\n",
    "            t3[e][f] = global_count[(f, e)]/global_count_e[e]"
   ]
  },
  {
   "cell_type": "code",
   "execution_count": 52,
   "metadata": {},
   "outputs": [
    {
     "data": {
      "image/png": "[encoded data removed]",
      "text/plain": [
       "<Figure size 432x288 with 2 Axes>"
      ]
     },
     "metadata": {},
     "output_type": "display_data"
    },
    {
     "data": {
      "image/png": "[encoded data removed]",
      "text/plain": [
       "<Figure size 432x288 with 2 Axes>"
      ]
     },
     "metadata": {},
     "output_type": "display_data"
    }
   ],
   "source": [
    "import matplotlib as mpl\n",
    "mpl.rcParams['font.sans-serif'] = ['STKaiTi']\n",
    "mpl.rcParams['font.serif'] = ['STKaiTi']\n",
    "\n",
    "import seaborn as sns\n",
    "sns.set_style(\"darkgrid\",{\"font.sans-serif\":['stkaiti', 'Arial']})\n",
    "\n",
    "en = [[\"NULL\", \"new\", \"questions\", \"over\", \"california\", \"water\", \"project\"],[\"NULL\", \"on\", \"wednesday\", \",\", \"state\", \"lawmakers\", \"ordered\", \"a\", \"state audit\", \"of\", \"the\", \"tunnels-spending\", \"as\", \"well\", \".\"]]\n",
    "zh = [[\"加利福尼亚州\", \"水务\", \"工程\", \"的\", \"新\", \"问题\"],[\"一些\", \"州\", \"议员\", \"也\", \"于\", \"周三\", \"责令\", \"对\", \"隧道\", \"费用\", \"支出\", \"情况\", \"进行\", \"一次\", \"州\", \"内\", \"审计\", \"。\"]]\n",
    "\n",
    "\n",
    "for i in range(len(en)):\n",
    "    a = np.zeros((len(zh[i]), len(en[i])))\n",
    "    for j, f in enumerate(zh[i]):\n",
    "        for k, e in enumerate(en[i]):\n",
    "            a[j][k] = t3[e][f]\n",
    "    plt.figure()\n",
    "    sns.heatmap(a, xticklabels=en[i], yticklabels=fr[i])"
   ]
  },
  {
   "cell_type": "code",
   "execution_count": null,
   "metadata": {},
   "outputs": [],
   "source": []
  }
 ],
 "metadata": {
  "colab": {
   "collapsed_sections": [],
   "name": "homework 3.ipynb",
   "provenance": [],
   "version": "0.3.2"
  },
  "kernelspec": {
   "display_name": "machine-learning",
   "language": "python",
   "name": "machine-learning"
  },
  "language_info": {
   "codemirror_mode": {
    "name": "ipython",
    "version": 3
   },
   "file_extension": ".py",
   "mimetype": "text/x-python",
   "name": "python",
   "nbconvert_exporter": "python",
   "pygments_lexer": "ipython3",
   "version": "3.5.0"
  }
 },
 "nbformat": 4,
 "nbformat_minor": 1
}
